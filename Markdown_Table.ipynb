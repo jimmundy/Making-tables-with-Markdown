{
 "cells": [
  {
   "cell_type": "markdown",
   "id": "9e00f46c",
   "metadata": {},
   "source": [
    "## Making  tables with Markdown\n",
    "In Data Science projects, sharing a notebook or making a quick presentation using simple tables can become necessary. This gets handy at the start of project meetings or later. Even though structured and unstructured data can be viewed nicely in tabular forms with libraries such as Pandas, creating a quick table with markdown (or HTML) is an easy task. \n",
    "\n",
    "We only need:\n",
    "1. Notebook: Jupyter Notebook\n",
    "2. Kernel: Python 3\n",
    "\n",
    "The text to create a table in a markdown cell is shown below. Copy the code into a Markdown cell (last cell) and run to see the table.\n",
    "\n",
    "Just for explanation purpose, '__%%capture__' takes the stdout/stderr of a cell. With this magic command you can discard the stream and simply show the code and not display the table. "
   ]
  },
  {
   "cell_type": "code",
   "execution_count": 4,
   "id": "b23107aa",
   "metadata": {},
   "outputs": [],
   "source": [
    "%%capture\n",
    "'''\n",
    "| Field          | Description 1                   |Description2   |\n",
    "| :---           | :----                           |---:           |\n",
    "| Loan_status    | Whether a loan is               |row1           |\n",
    "| Terms          | Origination terms table         |row3           |\n",
    "| Effective_date | When the loan got originated    |row4           |\n",
    "'''"
   ]
  },
  {
   "cell_type": "markdown",
   "id": "912555e0",
   "metadata": {},
   "source": [
    "| Field              | Description 1                   |Description2         |\n",
    "| :---               | :----                           |---:                 |\n",
    "| Project plan       | Mr Anders Jones                 |Meeting at Room 2    |\n",
    "| Contingencies      | Mr paula Kays                   |Finish by 03:06 2022 |\n",
    "| Final deliverables | Project Manager                 |Stakeholders Concerns|"
   ]
  },
  {
   "cell_type": "code",
   "execution_count": null,
   "id": "152ca60b",
   "metadata": {},
   "outputs": [],
   "source": []
  }
 ],
 "metadata": {
  "kernelspec": {
   "display_name": "Python 3 (ipykernel)",
   "language": "python",
   "name": "python3"
  },
  "language_info": {
   "codemirror_mode": {
    "name": "ipython",
    "version": 3
   },
   "file_extension": ".py",
   "mimetype": "text/x-python",
   "name": "python",
   "nbconvert_exporter": "python",
   "pygments_lexer": "ipython3",
   "version": "3.10.0"
  }
 },
 "nbformat": 4,
 "nbformat_minor": 5
}
